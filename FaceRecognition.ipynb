{
 "cells": [
  {
   "cell_type": "code",
   "outputs": [],
   "source": [
    "# Import standard dependencies\n",
    "import cv2\n",
    "import os\n",
    "import random\n",
    "import numpy as np\n",
    "import shutil\n",
    "from matplotlib import pyplot as plt"
   ],
   "metadata": {
    "collapsed": false
   },
   "id": "initial_id",
   "execution_count": null
  },
  {
   "cell_type": "code",
   "outputs": [],
   "source": [
    "# Import tensorflow dependencies - Functional API\n",
    "from tensorflow.keras.models import Model\n",
    "from tensorflow.keras.layers import Layer, Conv2D, Dense, MaxPooling2D, Input, Flatten\n",
    "import tensorflow as tf"
   ],
   "metadata": {
    "collapsed": false,
    "ExecuteTime": {
     "end_time": "2023-12-29T15:13:55.754950Z",
     "start_time": "2023-12-29T15:13:55.746359Z"
    }
   },
   "id": "b8fdf0de201fb396",
   "execution_count": 329
  },
  {
   "cell_type": "code",
   "outputs": [],
   "source": [
    "# Avoid OOM errors by setting GPU Memory Consumption Growth\n",
    "gpus = tf.config.experimental.list_physical_devices('GPU')\n",
    "for gpu in gpus: \n",
    "    tf.config.experimental.set_memory_growth(gpu, True)"
   ],
   "metadata": {
    "collapsed": false,
    "ExecuteTime": {
     "end_time": "2023-12-29T15:13:57.011637Z",
     "start_time": "2023-12-29T15:13:56.835504Z"
    }
   },
   "id": "486f6f14a850b9bb",
   "execution_count": 330
  },
  {
   "cell_type": "code",
   "outputs": [],
   "source": [
    "# Setup paths\n",
    "POS_PATH = os.path.join('data', 'positive')\n",
    "NEG_PATH = os.path.join('data', 'negative')\n",
    "ANC_PATH = os.path.join('data', 'anchor')"
   ],
   "metadata": {
    "collapsed": false,
    "ExecuteTime": {
     "end_time": "2023-12-29T15:14:00.266693Z",
     "start_time": "2023-12-29T15:14:00.262403Z"
    }
   },
   "id": "659c9260904bbeab",
   "execution_count": 331
  },
  {
   "cell_type": "code",
   "outputs": [],
   "source": [
    "#Make the directories\n",
    "try:\n",
    "    os.makedirs(POS_PATH)\n",
    "    os.makedirs(NEG_PATH)\n",
    "    os.makedirs(ANC_PATH)\n",
    "except Exception:\n",
    "    pass"
   ],
   "metadata": {
    "collapsed": false,
    "ExecuteTime": {
     "end_time": "2023-12-29T15:14:01.734730Z",
     "start_time": "2023-12-29T15:14:01.725713Z"
    }
   },
   "id": "fb2efd5dd50817d6",
   "execution_count": 332
  },
  {
   "cell_type": "code",
   "outputs": [],
   "source": [
    "# !tar -xf lfw.tgz"
   ],
   "metadata": {
    "collapsed": false
   },
   "id": "e457586c96ba7f58",
   "execution_count": null
  },
  {
   "cell_type": "code",
   "outputs": [],
   "source": [
    "# # Move LFW Images to the following repository data/negative\n",
    "# for directory in os.listdir('lfw'):\n",
    "#     for file in os.listdir(os.path.join('lfw', directory)):\n",
    "#         EX_PATH = os.path.join('lfw', directory, file)\n",
    "#         NEW_PATH = os.path.join(NEG_PATH, file)\n",
    "#         os.replace(EX_PATH, NEW_PATH)"
   ],
   "metadata": {
    "collapsed": false
   },
   "id": "2f35db957a3a7d78",
   "execution_count": null
  },
  {
   "cell_type": "code",
   "outputs": [],
   "source": [
    "# Import uuid library to generate unique image names\n",
    "import uuid"
   ],
   "metadata": {
    "collapsed": false,
    "ExecuteTime": {
     "end_time": "2023-12-29T15:21:39.541338Z",
     "start_time": "2023-12-29T15:21:39.537395Z"
    }
   },
   "id": "882f462fbb974eac",
   "execution_count": 335
  },
  {
   "cell_type": "code",
   "outputs": [
    {
     "data": {
      "text/plain": "'data/anchor/f749f462-a65d-11ee-9d7b-86d3b33983d7.jpg'"
     },
     "execution_count": 336,
     "metadata": {},
     "output_type": "execute_result"
    }
   ],
   "source": [
    "os.path.join(ANC_PATH, '{}.jpg'.format(uuid.uuid1()))\n"
   ],
   "metadata": {
    "collapsed": false,
    "ExecuteTime": {
     "end_time": "2023-12-29T15:21:40.611525Z",
     "start_time": "2023-12-29T15:21:40.608282Z"
    }
   },
   "id": "8d22c94f81ea5142",
   "execution_count": 336
  },
  {
   "cell_type": "code",
   "outputs": [],
   "source": [
    "\n",
    "cap = cv2.VideoCapture(1)\n",
    "\n",
    "while cap.isOpened():\n",
    "    ret, frame = cap.read()\n",
    "    frame = frame[200:250+200, 525:250+525, :]\n",
    "    \n",
    "    # Collect anchors\n",
    "    if cv2.waitKey(1) & 0xFF == ord('a'):\n",
    "        imgname = os.path.join(ANC_PATH,'{}.jpg'.format(uuid.uuid1()))\n",
    "        # Write out anchor image\n",
    "        cv2.imwrite(imgname, frame)\n",
    "    \n",
    "    # Collect positives\n",
    "    if cv2.waitKey(1) & 0xFF == ord('p'):\n",
    "        imgname = os.path.join(POS_PATH,'{}.jpg'.format(uuid.uuid1()))\n",
    "        # Write out anchor image\n",
    "        cv2.imwrite(imgname, frame)\n",
    "     \n",
    "    \n",
    "    cv2.imshow('Image Collection', frame)\n",
    "    cv2.startWindowThread()\n",
    "\n",
    "    if cv2.waitKey(1) & 0xFF in (ord('q'), ord('Q')):\n",
    "        break\n",
    "\n",
    "cap.release()\n",
    "for i in range(10):\n",
    "    cv2.destroyAllWindows()\n",
    "    cv2.waitKey(1)\n"
   ],
   "metadata": {
    "collapsed": false,
    "ExecuteTime": {
     "end_time": "2023-12-29T15:21:14.701239Z",
     "start_time": "2023-12-29T15:20:06.265380Z"
    }
   },
   "id": "e2f03d173091e636",
   "execution_count": 334
  },
  {
   "cell_type": "code",
   "outputs": [],
   "source": [
    "# plt.imshow(frame[300:250+300, 500:250+500, :])"
   ],
   "metadata": {
    "collapsed": false
   },
   "id": "95f5428e94729448",
   "execution_count": null
  },
  {
   "cell_type": "code",
   "outputs": [],
   "source": [],
   "metadata": {
    "collapsed": false
   },
   "id": "b025bca95fb92fa5"
  },
  {
   "cell_type": "code",
   "outputs": [],
   "source": [
    "anchor = tf.data.Dataset.list_files(ANC_PATH+'/*.jpg').take(50)\n",
    "positive = tf.data.Dataset.list_files(POS_PATH+'/*.jpg').take(50)\n",
    "negative = tf.data.Dataset.list_files(NEG_PATH+'/*.jpg').take(50)"
   ],
   "metadata": {
    "collapsed": false,
    "ExecuteTime": {
     "end_time": "2023-12-29T15:21:44.481244Z",
     "start_time": "2023-12-29T15:21:44.373246Z"
    }
   },
   "id": "88aff27c7938502c",
   "execution_count": 337
  },
  {
   "cell_type": "code",
   "outputs": [],
   "source": [
    "dir_test = anchor.as_numpy_iterator() "
   ],
   "metadata": {
    "collapsed": false,
    "ExecuteTime": {
     "end_time": "2023-12-29T15:21:46.125458Z",
     "start_time": "2023-12-29T15:21:46.078768Z"
    }
   },
   "id": "e4a926e8ec0bc221",
   "execution_count": 338
  },
  {
   "cell_type": "code",
   "outputs": [
    {
     "data": {
      "text/plain": "b'data/anchor/3100e1b2-a65d-11ee-9d7b-86d3b33983d7.jpg'"
     },
     "execution_count": 342,
     "metadata": {},
     "output_type": "execute_result"
    }
   ],
   "source": [
    "dir_test.next()"
   ],
   "metadata": {
    "collapsed": false,
    "ExecuteTime": {
     "end_time": "2023-12-29T15:21:48.837086Z",
     "start_time": "2023-12-29T15:21:48.831941Z"
    }
   },
   "id": "f4939beac11206e2",
   "execution_count": 342
  },
  {
   "cell_type": "code",
   "outputs": [],
   "source": [
    "def preprocess(file_path):\n",
    "    byte_img = tf.io.read_file(file_path)\n",
    "    img = tf.io.decode_jpeg(byte_img)\n",
    "    img = tf.image.resize(img, (100,100))\n",
    "    img = img / 255.0\n",
    "    return img"
   ],
   "metadata": {
    "collapsed": false,
    "ExecuteTime": {
     "end_time": "2023-12-29T15:23:47.629729Z",
     "start_time": "2023-12-29T15:23:47.626834Z"
    }
   },
   "id": "2b89f3f70576bdf1",
   "execution_count": 343
  },
  {
   "cell_type": "code",
   "outputs": [],
   "source": [
    "img = preprocess(\"data/anchor/3100e1b2-a65d-11ee-9d7b-86d3b33983d7.jpg\")"
   ],
   "metadata": {
    "collapsed": false,
    "ExecuteTime": {
     "end_time": "2023-12-29T15:24:11.794052Z",
     "start_time": "2023-12-29T15:24:11.757500Z"
    }
   },
   "id": "270e2afb32a124f7",
   "execution_count": 345
  },
  {
   "cell_type": "code",
   "outputs": [
    {
     "data": {
      "text/plain": "<matplotlib.image.AxesImage at 0x14ae45580>"
     },
     "execution_count": 346,
     "metadata": {},
     "output_type": "execute_result"
    },
    {
     "data": {
      "text/plain": "<Figure size 640x480 with 1 Axes>",
      "image/png": "[encoded data removed]"
     },
     "metadata": {},
     "output_type": "display_data"
    }
   ],
   "source": [
    "plt.imshow(img)"
   ],
   "metadata": {
    "collapsed": false,
    "ExecuteTime": {
     "end_time": "2023-12-29T15:24:13.900451Z",
     "start_time": "2023-12-29T15:24:13.778084Z"
    }
   },
   "id": "36e85263c2a59cbb",
   "execution_count": 346
  },
  {
   "cell_type": "code",
   "outputs": [
    {
     "data": {
      "text/plain": "1.0"
     },
     "execution_count": 347,
     "metadata": {},
     "output_type": "execute_result"
    }
   ],
   "source": [
    "img.numpy().max()"
   ],
   "metadata": {
    "collapsed": false,
    "ExecuteTime": {
     "end_time": "2023-12-29T15:24:35.259829Z",
     "start_time": "2023-12-29T15:24:35.256756Z"
    }
   },
   "id": "50a46d03c796b815",
   "execution_count": 347
  },
  {
   "cell_type": "code",
   "outputs": [],
   "source": [
    "# (anchor, positive) => 1,1,1,1,1\n",
    "# (anchor, negative) => 0,0,0,0,0"
   ],
   "metadata": {
    "collapsed": false
   },
   "id": "72bc199d3d57505f",
   "execution_count": null
  },
  {
   "cell_type": "code",
   "outputs": [],
   "source": [
    "class_labels = tf.data.Dataset.from_tensor_slices(tf.zeros(len(anchor)))"
   ],
   "metadata": {
    "collapsed": false,
    "ExecuteTime": {
     "end_time": "2023-12-29T15:24:37.083377Z",
     "start_time": "2023-12-29T15:24:37.070529Z"
    }
   },
   "id": "a8ce1123bb415e71",
   "execution_count": 348
  },
  {
   "cell_type": "code",
   "outputs": [],
   "source": [
    "iterator_labs = class_labels.as_numpy_iterator()"
   ],
   "metadata": {
    "collapsed": false,
    "ExecuteTime": {
     "end_time": "2023-12-29T15:24:38.408868Z",
     "start_time": "2023-12-29T15:24:38.391516Z"
    }
   },
   "id": "426f3d5be4559155",
   "execution_count": 349
  },
  {
   "cell_type": "code",
   "outputs": [
    {
     "data": {
      "text/plain": "0.0"
     },
     "execution_count": 350,
     "metadata": {},
     "output_type": "execute_result"
    }
   ],
   "source": [
    "iterator_labs.next()"
   ],
   "metadata": {
    "collapsed": false,
    "ExecuteTime": {
     "end_time": "2023-12-29T15:24:40.259939Z",
     "start_time": "2023-12-29T15:24:40.140806Z"
    }
   },
   "id": "a1c0c009ed3e6ec4",
   "execution_count": 350
  },
  {
   "cell_type": "code",
   "outputs": [],
   "source": [
    "positives = tf.data.Dataset.zip((anchor, positive, tf.data.Dataset.from_tensor_slices(tf.ones(len(anchor)))))\n",
    "negatives = tf.data.Dataset.zip((anchor, negative, tf.data.Dataset.from_tensor_slices(tf.zeros(len(anchor)))))\n",
    "\n",
    "data = positives.concatenate(negatives)"
   ],
   "metadata": {
    "collapsed": false,
    "ExecuteTime": {
     "end_time": "2023-12-29T15:24:41.904552Z",
     "start_time": "2023-12-29T15:24:41.884176Z"
    }
   },
   "id": "161ae03c218a3905",
   "execution_count": 351
  },
  {
   "cell_type": "code",
   "outputs": [
    {
     "data": {
      "text/plain": "<_ConcatenateDataset element_spec=(TensorSpec(shape=(), dtype=tf.string, name=None), TensorSpec(shape=(), dtype=tf.string, name=None), TensorSpec(shape=(), dtype=tf.float32, name=None))>"
     },
     "execution_count": 352,
     "metadata": {},
     "output_type": "execute_result"
    }
   ],
   "source": [
    "data"
   ],
   "metadata": {
    "collapsed": false,
    "ExecuteTime": {
     "end_time": "2023-12-29T15:24:43.448297Z",
     "start_time": "2023-12-29T15:24:43.440782Z"
    }
   },
   "id": "71bacb2d5488b431",
   "execution_count": 352
  },
  {
   "cell_type": "code",
   "outputs": [],
   "source": [
    "samples = data.as_numpy_iterator()"
   ],
   "metadata": {
    "collapsed": false,
    "ExecuteTime": {
     "end_time": "2023-12-29T15:24:45.075010Z",
     "start_time": "2023-12-29T15:24:45.064213Z"
    }
   },
   "id": "adc5e9524691754",
   "execution_count": 353
  },
  {
   "cell_type": "code",
   "outputs": [],
   "source": [
    "example = samples.next()  "
   ],
   "metadata": {
    "collapsed": false,
    "ExecuteTime": {
     "end_time": "2023-12-29T15:24:46.522326Z",
     "start_time": "2023-12-29T15:24:46.516666Z"
    }
   },
   "id": "9c323994f0379b4a",
   "execution_count": 354
  },
  {
   "cell_type": "code",
   "outputs": [
    {
     "data": {
      "text/plain": "(b'data/anchor/32ded048-a65d-11ee-9d7b-86d3b33983d7.jpg',\n b'data/positive/3c829576-a65d-11ee-9d7b-86d3b33983d7.jpg',\n 1.0)"
     },
     "execution_count": 355,
     "metadata": {},
     "output_type": "execute_result"
    }
   ],
   "source": [
    "example"
   ],
   "metadata": {
    "collapsed": false,
    "ExecuteTime": {
     "end_time": "2023-12-29T15:24:47.919530Z",
     "start_time": "2023-12-29T15:24:47.914304Z"
    }
   },
   "id": "ce8eed53a4591dc",
   "execution_count": 355
  },
  {
   "cell_type": "code",
   "outputs": [],
   "source": [
    "def preprocess_twin(input_img, validation_img, label):\n",
    "    return (preprocess(input_img), preprocess(validation_img), label)"
   ],
   "metadata": {
    "collapsed": false,
    "ExecuteTime": {
     "end_time": "2023-12-29T15:24:49.379534Z",
     "start_time": "2023-12-29T15:24:49.371677Z"
    }
   },
   "id": "a3c8d7587e535efb",
   "execution_count": 356
  },
  {
   "cell_type": "code",
   "outputs": [],
   "source": [
    "res = preprocess_twin(*example)"
   ],
   "metadata": {
    "collapsed": false,
    "ExecuteTime": {
     "end_time": "2023-12-29T15:24:50.745510Z",
     "start_time": "2023-12-29T15:24:50.720290Z"
    }
   },
   "id": "1db347c66b956bc9",
   "execution_count": 357
  },
  {
   "cell_type": "code",
   "outputs": [
    {
     "data": {
      "text/plain": "<matplotlib.image.AxesImage at 0x14aeab430>"
     },
     "execution_count": 363,
     "metadata": {},
     "output_type": "execute_result"
    },
    {
     "data": {
      "text/plain": "<Figure size 640x480 with 1 Axes>",
      "image/png": "[encoded data removed]"
     },
     "metadata": {},
     "output_type": "display_data"
    }
   ],
   "source": [
    "plt.imshow(res[0])"
   ],
   "metadata": {
    "collapsed": false,
    "ExecuteTime": {
     "end_time": "2023-12-29T15:25:04.087381Z",
     "start_time": "2023-12-29T15:25:03.928658Z"
    }
   },
   "id": "fdfc4e8440f4a42c",
   "execution_count": 363
  },
  {
   "cell_type": "code",
   "outputs": [
    {
     "data": {
      "text/plain": "1.0"
     },
     "execution_count": 364,
     "metadata": {},
     "output_type": "execute_result"
    }
   ],
   "source": [
    "res[2]"
   ],
   "metadata": {
    "collapsed": false,
    "ExecuteTime": {
     "end_time": "2023-12-29T15:25:07.709349Z",
     "start_time": "2023-12-29T15:25:07.702429Z"
    }
   },
   "id": "986927cc22ae7dc",
   "execution_count": 364
  },
  {
   "cell_type": "code",
   "outputs": [],
   "source": [
    "# Build data loader pipeline\n",
    "data = data.map(preprocess_twin)\n",
    "data = data.cache()\n",
    "data = data.shuffle(buffer_size=1024)"
   ],
   "metadata": {
    "collapsed": false,
    "ExecuteTime": {
     "end_time": "2023-12-29T15:25:08.854737Z",
     "start_time": "2023-12-29T15:25:08.796334Z"
    }
   },
   "id": "fab2a06c30f0fadf",
   "execution_count": 365
  },
  {
   "cell_type": "code",
   "outputs": [],
   "source": [
    "# Training partition\n",
    "train_data = data.take(round(len(data)*0.7))\n",
    "train_data = train_data.batch(16)\n",
    "train_data = train_data.prefetch(8)\n"
   ],
   "metadata": {
    "collapsed": false,
    "ExecuteTime": {
     "end_time": "2023-12-29T15:25:14.694501Z",
     "start_time": "2023-12-29T15:25:14.685308Z"
    }
   },
   "id": "c5f19344ca744974",
   "execution_count": 366
  },
  {
   "cell_type": "code",
   "outputs": [],
   "source": [
    "train_samples = train_data.as_numpy_iterator()\n"
   ],
   "metadata": {
    "collapsed": false,
    "ExecuteTime": {
     "end_time": "2023-12-29T15:25:28.633325Z",
     "start_time": "2023-12-29T15:25:28.601195Z"
    }
   },
   "id": "f393ade43c6f449b",
   "execution_count": 367
  },
  {
   "cell_type": "code",
   "outputs": [],
   "source": [
    "train_sample  = train_samples.next()"
   ],
   "metadata": {
    "collapsed": false,
    "ExecuteTime": {
     "end_time": "2023-12-29T15:26:56.021742Z",
     "start_time": "2023-12-29T15:26:56.001904Z"
    }
   },
   "id": "f01555837cb33a1c",
   "execution_count": 376
  },
  {
   "cell_type": "code",
   "outputs": [
    {
     "data": {
      "text/plain": "16"
     },
     "execution_count": 377,
     "metadata": {},
     "output_type": "execute_result"
    }
   ],
   "source": [
    "len(train_sample[0])"
   ],
   "metadata": {
    "collapsed": false,
    "ExecuteTime": {
     "end_time": "2023-12-29T15:26:57.175879Z",
     "start_time": "2023-12-29T15:26:57.167056Z"
    }
   },
   "id": "8efc343dac8ed153",
   "execution_count": 377
  },
  {
   "cell_type": "code",
   "outputs": [],
   "source": [
    "samples = data.as_numpy_iterator()"
   ],
   "metadata": {
    "collapsed": false,
    "ExecuteTime": {
     "end_time": "2023-12-29T15:26:58.252905Z",
     "start_time": "2023-12-29T15:26:58.242625Z"
    }
   },
   "id": "1db4bc71747364e4",
   "execution_count": 378
  },
  {
   "cell_type": "code",
   "outputs": [
    {
     "data": {
      "text/plain": "3"
     },
     "execution_count": 379,
     "metadata": {},
     "output_type": "execute_result"
    }
   ],
   "source": [
    "len(samples.next())"
   ],
   "metadata": {
    "collapsed": false,
    "ExecuteTime": {
     "end_time": "2023-12-29T15:27:00.266410Z",
     "start_time": "2023-12-29T15:27:00.255895Z"
    }
   },
   "id": "5892a8e47423f8e3",
   "execution_count": 379
  },
  {
   "cell_type": "code",
   "outputs": [],
   "source": [
    "samp = samples.next()"
   ],
   "metadata": {
    "collapsed": false,
    "ExecuteTime": {
     "end_time": "2023-12-29T15:27:01.484653Z",
     "start_time": "2023-12-29T15:27:01.480369Z"
    }
   },
   "id": "fe6f834259272b1b",
   "execution_count": 380
  },
  {
   "cell_type": "code",
   "outputs": [
    {
     "data": {
      "text/plain": "<matplotlib.image.AxesImage at 0x14afe9430>"
     },
     "execution_count": 381,
     "metadata": {},
     "output_type": "execute_result"
    },
    {
     "data": {
      "text/plain": "<Figure size 640x480 with 1 Axes>",
      "image/png": "[encoded data removed]"
     },
     "metadata": {},
     "output_type": "display_data"
    }
   ],
   "source": [
    "plt.imshow(samp[0])"
   ],
   "metadata": {
    "collapsed": false,
    "ExecuteTime": {
     "end_time": "2023-12-29T15:27:02.518432Z",
     "start_time": "2023-12-29T15:27:02.423731Z"
    }
   },
   "id": "89c05082faa2176e",
   "execution_count": 381
  },
  {
   "cell_type": "code",
   "outputs": [
    {
     "data": {
      "text/plain": "<matplotlib.image.AxesImage at 0x14b05b220>"
     },
     "execution_count": 382,
     "metadata": {},
     "output_type": "execute_result"
    },
    {
     "data": {
      "text/plain": "<Figure size 640x480 with 1 Axes>",
      "image/png": "[encoded data removed]"
     },
     "metadata": {},
     "output_type": "display_data"
    }
   ],
   "source": [
    "plt.imshow(samp[1])"
   ],
   "metadata": {
    "collapsed": false,
    "ExecuteTime": {
     "end_time": "2023-12-29T15:27:05.740034Z",
     "start_time": "2023-12-29T15:27:05.608483Z"
    }
   },
   "id": "7429e270220fc35f",
   "execution_count": 382
  },
  {
   "cell_type": "code",
   "outputs": [
    {
     "data": {
      "text/plain": "1.0"
     },
     "execution_count": 383,
     "metadata": {},
     "output_type": "execute_result"
    }
   ],
   "source": [
    "samp[2]"
   ],
   "metadata": {
    "collapsed": false,
    "ExecuteTime": {
     "end_time": "2023-12-29T15:27:07.770912Z",
     "start_time": "2023-12-29T15:27:07.767276Z"
    }
   },
   "id": "efb0c4a36a57b3b2",
   "execution_count": 383
  },
  {
   "cell_type": "code",
   "outputs": [],
   "source": [
    "# Testing partition\n",
    "test_data = data.skip(round(len(data)*.7))\n",
    "test_data = test_data.take(round(len(data)*0.3))\n",
    "test_data = test_data.batch(16)\n",
    "test_data = test_data.prefetch(8)"
   ],
   "metadata": {
    "collapsed": false,
    "ExecuteTime": {
     "end_time": "2023-12-29T15:30:54.619052Z",
     "start_time": "2023-12-29T15:30:54.601606Z"
    }
   },
   "id": "c6d1788154dafd57",
   "execution_count": 385
  },
  {
   "cell_type": "markdown",
   "source": [
    "### MODEL ENGINEERING"
   ],
   "metadata": {
    "collapsed": false
   },
   "id": "788a70aae81cca38"
  },
  {
   "cell_type": "code",
   "outputs": [],
   "source": [
    "inp = Input(shape=(100, 100, 3), name = 'input_image')\n",
    "### We can change to 105x105 to match the paper"
   ],
   "metadata": {
    "collapsed": false,
    "ExecuteTime": {
     "end_time": "2023-12-29T15:36:26.323174Z",
     "start_time": "2023-12-29T15:36:26.313735Z"
    }
   },
   "id": "96748cbf99a1ad48",
   "execution_count": 401
  },
  {
   "cell_type": "code",
   "outputs": [],
   "source": [
    "c1 = Conv2D(64, (10, 10), activation='relu')(inp)\n"
   ],
   "metadata": {
    "collapsed": false,
    "ExecuteTime": {
     "end_time": "2023-12-29T15:36:27.142077Z",
     "start_time": "2023-12-29T15:36:27.118534Z"
    }
   },
   "id": "58d6e54eaf337006",
   "execution_count": 402
  },
  {
   "cell_type": "code",
   "outputs": [
    {
     "data": {
      "text/plain": "<KerasTensor: shape=(None, 91, 91, 64) dtype=float32 (created by layer 'conv2d_3')>"
     },
     "execution_count": 403,
     "metadata": {},
     "output_type": "execute_result"
    }
   ],
   "source": [
    "c1"
   ],
   "metadata": {
    "collapsed": false,
    "ExecuteTime": {
     "end_time": "2023-12-29T15:36:28.057654Z",
     "start_time": "2023-12-29T15:36:28.021111Z"
    }
   },
   "id": "798a839bc3e236de",
   "execution_count": 403
  },
  {
   "cell_type": "code",
   "outputs": [],
   "source": [
    "m1 = MaxPooling2D(64, (2,2), padding='same')(c1)"
   ],
   "metadata": {
    "collapsed": false,
    "ExecuteTime": {
     "end_time": "2023-12-29T15:36:29.441338Z",
     "start_time": "2023-12-29T15:36:29.436814Z"
    }
   },
   "id": "8a09828286ea680a",
   "execution_count": 404
  },
  {
   "cell_type": "code",
   "outputs": [],
   "source": [
    "c2 = Conv2D(128, (7,7), activation='relu')(m1)\n",
    "m2 = MaxPooling2D(64, (2, 2), padding='same')(c2)"
   ],
   "metadata": {
    "collapsed": false,
    "ExecuteTime": {
     "end_time": "2023-12-29T15:37:57.423863Z",
     "start_time": "2023-12-29T15:37:57.122325Z"
    }
   },
   "id": "4c7d4f9b9d7cb14b",
   "execution_count": 407
  },
  {
   "cell_type": "code",
   "outputs": [],
   "source": [
    "# Third block\n",
    "c3 = Conv2D(128, (4,4), activation ='relu')(m2)\n",
    "m3 = MaxPooling2D(64, (2, 2), padding='same')(c3)\n",
    "\n",
    "# Last block\n",
    "c4 = Conv2D(256, (4,4), activation='relu')(m3)\n",
    "f1 = Flatten()(c4)\n",
    "d1 = Dense(4096, activation=\"sigmoid\")(f1)"
   ],
   "metadata": {
    "collapsed": false,
    "ExecuteTime": {
     "end_time": "2023-12-29T15:40:53.372698Z",
     "start_time": "2023-12-29T15:40:51.932767Z"
    }
   },
   "id": "ce8a8626bbbc874e",
   "execution_count": 410
  },
  {
   "cell_type": "code",
   "outputs": [],
   "source": [
    "mod = Model(inputs=[inp], outputs=[d1], name = 'embedding')"
   ],
   "metadata": {
    "collapsed": false,
    "ExecuteTime": {
     "end_time": "2023-12-29T15:43:16.722987Z",
     "start_time": "2023-12-29T15:43:16.703464Z"
    }
   },
   "id": "cab4c5e601c72cad",
   "execution_count": 417
  },
  {
   "cell_type": "code",
   "outputs": [
    {
     "name": "stdout",
     "output_type": "stream",
     "text": [
      "Model: \"embedding\"\n",
      "_________________________________________________________________\n",
      " Layer (type)                Output Shape              Param #   \n",
      "=================================================================\n",
      " input_image (InputLayer)    [(None, 100, 100, 3)]     0         \n",
      "                                                                 \n",
      " conv2d_3 (Conv2D)           (None, 91, 91, 64)        19264     \n",
      "                                                                 \n",
      " max_pooling2d_1 (MaxPoolin  (None, 46, 46, 64)        0         \n",
      " g2D)                                                            \n",
      "                                                                 \n",
      " conv2d_4 (Conv2D)           (None, 40, 40, 128)       401536    \n",
      "                                                                 \n",
      " max_pooling2d_2 (MaxPoolin  (None, 20, 20, 128)       0         \n",
      " g2D)                                                            \n",
      "                                                                 \n",
      " conv2d_5 (Conv2D)           (None, 17, 17, 128)       262272    \n",
      "                                                                 \n",
      " max_pooling2d_3 (MaxPoolin  (None, 9, 9, 128)         0         \n",
      " g2D)                                                            \n",
      "                                                                 \n",
      " conv2d_6 (Conv2D)           (None, 6, 6, 256)         524544    \n",
      "                                                                 \n",
      " flatten (Flatten)           (None, 9216)              0         \n",
      "                                                                 \n",
      " dense (Dense)               (None, 4096)              37752832  \n",
      "                                                                 \n",
      "=================================================================\n",
      "Total params: 38960448 (148.62 MB)\n",
      "Trainable params: 38960448 (148.62 MB)\n",
      "Non-trainable params: 0 (0.00 Byte)\n",
      "_________________________________________________________________\n"
     ]
    }
   ],
   "source": [
    "mod.summary()"
   ],
   "metadata": {
    "collapsed": false,
    "ExecuteTime": {
     "end_time": "2023-12-29T15:43:17.943703Z",
     "start_time": "2023-12-29T15:43:17.886213Z"
    }
   },
   "id": "27a0a1aa7da56f7d",
   "execution_count": 418
  },
  {
   "cell_type": "code",
   "outputs": [],
   "source": [
    "def make_embedding():\n",
    "    inp = Input(shape=(100, 100, 3), name = 'input_image')\n",
    "    \n",
    "    # First block\n",
    "    c1 = Conv2D(64, (10, 10), activation='relu')(inp)\n",
    "    m1 = MaxPooling2D(64, (2,2), padding='same')(c1)\n",
    "    \n",
    "    # Second block\n",
    "    c2 = Conv2D(128, (7,7), activation='relu')(m1)\n",
    "    m2 = MaxPooling2D(64, (2, 2), padding='same')(c2)\n",
    "    \n",
    "    # Third block\n",
    "    c3 = Conv2D(128, (4,4), activation ='relu')(m2)\n",
    "    m3 = MaxPooling2D(64, (2, 2), padding='same')(c3)\n",
    "    \n",
    "    # Last block\n",
    "    c4 = Conv2D(256, (4,4), activation='relu')(m3)\n",
    "    f1 = Flatten()(c4)\n",
    "    d1 = Dense(4096, activation=\"sigmoid\")(f1)\n",
    "    \n",
    "\n",
    "    return Model(inputs=[inp], outputs=[d1], name = 'embedding')"
   ],
   "metadata": {
    "collapsed": false,
    "ExecuteTime": {
     "end_time": "2023-12-29T15:48:19.975358Z",
     "start_time": "2023-12-29T15:48:19.968890Z"
    }
   },
   "id": "aea92e05636f1114",
   "execution_count": 422
  },
  {
   "cell_type": "code",
   "outputs": [],
   "source": [
    "embedding = make_embedding()"
   ],
   "metadata": {
    "collapsed": false,
    "ExecuteTime": {
     "end_time": "2023-12-29T15:53:55.632743Z",
     "start_time": "2023-12-29T15:53:55.340453Z"
    }
   },
   "id": "b8e62e70d4a41d3d",
   "execution_count": 429
  },
  {
   "cell_type": "code",
   "outputs": [
    {
     "name": "stdout",
     "output_type": "stream",
     "text": [
      "Model: \"embedding\"\n",
      "_________________________________________________________________\n",
      " Layer (type)                Output Shape              Param #   \n",
      "=================================================================\n",
      " input_image (InputLayer)    [(None, 100, 100, 3)]     0         \n",
      "                                                                 \n",
      " conv2d_11 (Conv2D)          (None, 91, 91, 64)        19264     \n",
      "                                                                 \n",
      " max_pooling2d_7 (MaxPoolin  (None, 46, 46, 64)        0         \n",
      " g2D)                                                            \n",
      "                                                                 \n",
      " conv2d_12 (Conv2D)          (None, 40, 40, 128)       401536    \n",
      "                                                                 \n",
      " max_pooling2d_8 (MaxPoolin  (None, 20, 20, 128)       0         \n",
      " g2D)                                                            \n",
      "                                                                 \n",
      " conv2d_13 (Conv2D)          (None, 17, 17, 128)       262272    \n",
      "                                                                 \n",
      " max_pooling2d_9 (MaxPoolin  (None, 9, 9, 128)         0         \n",
      " g2D)                                                            \n",
      "                                                                 \n",
      " conv2d_14 (Conv2D)          (None, 6, 6, 256)         524544    \n",
      "                                                                 \n",
      " flatten_2 (Flatten)         (None, 9216)              0         \n",
      "                                                                 \n",
      " dense_2 (Dense)             (None, 4096)              37752832  \n",
      "                                                                 \n",
      "=================================================================\n",
      "Total params: 38960448 (148.62 MB)\n",
      "Trainable params: 38960448 (148.62 MB)\n",
      "Non-trainable params: 0 (0.00 Byte)\n",
      "_________________________________________________________________\n"
     ]
    }
   ],
   "source": [
    "embedding.summary()"
   ],
   "metadata": {
    "collapsed": false,
    "ExecuteTime": {
     "end_time": "2023-12-29T15:53:56.727229Z",
     "start_time": "2023-12-29T15:53:56.663050Z"
    }
   },
   "id": "4f38318391e007d5",
   "execution_count": 430
  },
  {
   "cell_type": "markdown",
   "source": [
    "# Build Distance layer"
   ],
   "metadata": {
    "collapsed": false
   },
   "id": "5004e82e6c8663c1"
  },
  {
   "cell_type": "code",
   "outputs": [],
   "source": [
    "# Siamese L1 Distance class\n",
    "class L1Dist(Layer):\n",
    "    def __init__(self, **kwargs):\n",
    "        super().__init__()\n",
    "    \n",
    "    def call(self, input_embedding, validation_embedding):\n",
    "        return tf.math.abs(input_embedding-validation_embedding)"
   ],
   "metadata": {
    "collapsed": false,
    "ExecuteTime": {
     "end_time": "2023-12-29T15:51:10.019164Z",
     "start_time": "2023-12-29T15:51:10.012471Z"
    }
   },
   "id": "a52f72a78857c9d1",
   "execution_count": 425
  },
  {
   "cell_type": "code",
   "outputs": [],
   "source": [
    "l1 = L1Dist()"
   ],
   "metadata": {
    "collapsed": false,
    "ExecuteTime": {
     "end_time": "2023-12-29T15:51:11.396103Z",
     "start_time": "2023-12-29T15:51:11.390025Z"
    }
   },
   "id": "ed3b00af87a3bc5",
   "execution_count": 426
  },
  {
   "cell_type": "markdown",
   "source": [
    "# Make Siamese Model"
   ],
   "metadata": {
    "collapsed": false
   },
   "id": "1f2f4bffbda24377"
  },
  {
   "cell_type": "code",
   "outputs": [],
   "source": [
    "input_image = Input(name = 'input_img', shape=(100, 100,3 ))\n",
    "validation_image = Input(name = 'validation_img', shape=(100, 100,3 ))\n"
   ],
   "metadata": {
    "collapsed": false,
    "ExecuteTime": {
     "end_time": "2023-12-29T15:56:15.702495Z",
     "start_time": "2023-12-29T15:56:15.680827Z"
    }
   },
   "id": "2f820c50357725ee",
   "execution_count": 433
  },
  {
   "cell_type": "code",
   "outputs": [],
   "source": [
    "inp_embedding = embedding(input_image)\n",
    "val_embedding = embedding(validation_image)"
   ],
   "metadata": {
    "collapsed": false,
    "ExecuteTime": {
     "end_time": "2023-12-29T15:56:18.540179Z",
     "start_time": "2023-12-29T15:56:18.504580Z"
    }
   },
   "id": "36e087bd1c406fac",
   "execution_count": 434
  },
  {
   "cell_type": "code",
   "outputs": [
    {
     "data": {
      "text/plain": "<KerasTensor: shape=(None, 4096) dtype=float32 (created by layer 'embedding')>"
     },
     "execution_count": 435,
     "metadata": {},
     "output_type": "execute_result"
    }
   ],
   "source": [
    "inp_embedding"
   ],
   "metadata": {
    "collapsed": false,
    "ExecuteTime": {
     "end_time": "2023-12-29T15:56:26.457302Z",
     "start_time": "2023-12-29T15:56:26.410682Z"
    }
   },
   "id": "17feb3da4cd66c0",
   "execution_count": 435
  },
  {
   "cell_type": "code",
   "outputs": [
    {
     "data": {
      "text/plain": "<KerasTensor: shape=(None, 4096) dtype=float32 (created by layer 'embedding')>"
     },
     "execution_count": 436,
     "metadata": {},
     "output_type": "execute_result"
    }
   ],
   "source": [
    "val_embedding"
   ],
   "metadata": {
    "collapsed": false,
    "ExecuteTime": {
     "end_time": "2023-12-29T15:56:34.530090Z",
     "start_time": "2023-12-29T15:56:34.290981Z"
    }
   },
   "id": "2e73b8a2f154a67e",
   "execution_count": 436
  },
  {
   "cell_type": "code",
   "outputs": [],
   "source": [
    "siamese_layer = L1Dist()"
   ],
   "metadata": {
    "collapsed": false,
    "ExecuteTime": {
     "end_time": "2023-12-29T15:57:30.402197Z",
     "start_time": "2023-12-29T15:57:30.125968Z"
    }
   },
   "id": "cd8495f711024b8b",
   "execution_count": 437
  },
  {
   "cell_type": "code",
   "outputs": [],
   "source": [
    "distances = siamese_layer(inp_embedding, val_embedding)"
   ],
   "metadata": {
    "collapsed": false,
    "ExecuteTime": {
     "end_time": "2023-12-29T16:21:12.091999Z",
     "start_time": "2023-12-29T16:21:11.527332Z"
    }
   },
   "id": "97f01ca7db46864",
   "execution_count": 466
  },
  {
   "cell_type": "code",
   "outputs": [],
   "source": [
    "classifier = Dense(1, activation='sigmoid')(distances)\n"
   ],
   "metadata": {
    "collapsed": false,
    "ExecuteTime": {
     "end_time": "2023-12-29T16:21:18.517256Z",
     "start_time": "2023-12-29T16:21:18.178780Z"
    }
   },
   "id": "e9a08eaa637581fc",
   "execution_count": 467
  },
  {
   "cell_type": "code",
   "outputs": [
    {
     "data": {
      "text/plain": "<KerasTensor: shape=(None, 1) dtype=float32 (created by layer 'dense_4')>"
     },
     "execution_count": 470,
     "metadata": {},
     "output_type": "execute_result"
    }
   ],
   "source": [
    "classifier"
   ],
   "metadata": {
    "collapsed": false,
    "ExecuteTime": {
     "end_time": "2023-12-29T16:21:32.390792Z",
     "start_time": "2023-12-29T16:21:32.257987Z"
    }
   },
   "id": "6ac7ed8c05ed3208",
   "execution_count": 470
  },
  {
   "cell_type": "code",
   "outputs": [
    {
     "name": "stdout",
     "output_type": "stream",
     "text": [
      "Model: \"SiameseNetwork\"\n",
      "__________________________________________________________________________________________________\n",
      " Layer (type)                Output Shape                 Param #   Connected to                  \n",
      "==================================================================================================\n",
      " input_img (InputLayer)      [(None, 100, 100, 3)]        0         []                            \n",
      "                                                                                                  \n",
      " validation_img (InputLayer  [(None, 100, 100, 3)]        0         []                            \n",
      " )                                                                                                \n",
      "                                                                                                  \n",
      " embedding (Functional)      (None, 4096)                 3896044   ['input_img[0][0]',           \n",
      "                                                          8          'validation_img[0][0]']      \n",
      "                                                                                                  \n",
      " l1_dist_2 (L1Dist)          (None, 4096)                 0         ['embedding[1][0]',           \n",
      "                                                                     'embedding[2][0]']           \n",
      "                                                                                                  \n",
      " dense_4 (Dense)             (None, 1)                    4097      ['l1_dist_2[1][0]']           \n",
      "                                                                                                  \n",
      "==================================================================================================\n",
      "Total params: 38964545 (148.64 MB)\n",
      "Trainable params: 38964545 (148.64 MB)\n",
      "Non-trainable params: 0 (0.00 Byte)\n",
      "__________________________________________________________________________________________________\n"
     ]
    }
   ],
   "source": [
    "siamese_net = Model(inputs=[input_image, validation_image], outputs= classifier, name = \"SiameseNetwork\")\n",
    "siamese_net.summary()"
   ],
   "metadata": {
    "collapsed": false,
    "ExecuteTime": {
     "end_time": "2023-12-29T16:22:11.738616Z",
     "start_time": "2023-12-29T16:22:11.644046Z"
    }
   },
   "id": "ffb5b1f9ce665c67",
   "execution_count": 471
  },
  {
   "cell_type": "code",
   "outputs": [],
   "source": [
    "def make_siamese_model():\n",
    "    \n",
    "    # Anchor image input in the network\n",
    "    input_image = Input(name = 'input_img', shape=(100, 100,3 ))\n",
    "    \n",
    "    # Validation image in the network\n",
    "    validation_image = Input(name = 'validation_img', shape=(100, 100, 3))\n",
    "    \n",
    "    # Combine siamese distance components\n",
    "    siamese_layer = L1Dist()\n",
    "    siamese_layer._name = \"distance\"\n",
    "    distances = siamese_layer(embedding(input_image), embedding(validation_image))\n",
    "    \n",
    "    # Classification layer\n",
    "    classifier = Dense(1, activation = \"sigmoid\")(distances)\n",
    "    \n",
    "    return Model(inputs=[input_image, validation_image], outputs= classifier, name = \"SiameseNetwork\")\n",
    "    "
   ],
   "metadata": {
    "collapsed": false,
    "ExecuteTime": {
     "end_time": "2023-12-29T15:58:43.168129Z",
     "start_time": "2023-12-29T15:58:43.007597Z"
    }
   },
   "id": "72edccac6882a677",
   "execution_count": 440
  },
  {
   "cell_type": "code",
   "outputs": [],
   "source": [
    "siamese_model = make_siamese_model()"
   ],
   "metadata": {
    "collapsed": false,
    "ExecuteTime": {
     "end_time": "2023-12-29T15:59:15.398156Z",
     "start_time": "2023-12-29T15:59:14.341845Z"
    }
   },
   "id": "894321c3972d9492",
   "execution_count": 441
  },
  {
   "cell_type": "code",
   "outputs": [
    {
     "name": "stdout",
     "output_type": "stream",
     "text": [
      "Model: \"SiameseNetwork\"\n",
      "__________________________________________________________________________________________________\n",
      " Layer (type)                Output Shape                 Param #   Connected to                  \n",
      "==================================================================================================\n",
      " input_img (InputLayer)      [(None, 100, 100, 3)]        0         []                            \n",
      "                                                                                                  \n",
      " validation_img (InputLayer  [(None, 100, 100, 3)]        0         []                            \n",
      " )                                                                                                \n",
      "                                                                                                  \n",
      " embedding (Functional)      (None, 4096)                 3896044   ['input_img[0][0]',           \n",
      "                                                          8          'validation_img[0][0]']      \n",
      "                                                                                                  \n",
      " distance (L1Dist)           (None, 4096)                 0         ['embedding[3][0]',           \n",
      "                                                                     'embedding[4][0]']           \n",
      "                                                                                                  \n",
      " dense_3 (Dense)             (None, 1)                    4097      ['distance[0][0]']            \n",
      "                                                                                                  \n",
      "==================================================================================================\n",
      "Total params: 38964545 (148.64 MB)\n",
      "Trainable params: 38964545 (148.64 MB)\n",
      "Non-trainable params: 0 (0.00 Byte)\n",
      "__________________________________________________________________________________________________\n"
     ]
    }
   ],
   "source": [
    "siamese_model.summary()"
   ],
   "metadata": {
    "collapsed": false,
    "ExecuteTime": {
     "end_time": "2023-12-29T15:59:23.878705Z",
     "start_time": "2023-12-29T15:59:23.853541Z"
    }
   },
   "id": "c9bff79c1f96f84e",
   "execution_count": 442
  },
  {
   "cell_type": "markdown",
   "source": [
    "### Training"
   ],
   "metadata": {
    "collapsed": false
   },
   "id": "73b6e1c3e1b5ef74"
  },
  {
   "cell_type": "markdown",
   "source": [
    "# Setup loss and optimizer"
   ],
   "metadata": {
    "collapsed": false
   },
   "id": "7deff03db8d76d7c"
  },
  {
   "cell_type": "code",
   "outputs": [],
   "source": [
    "binary_cross_loss = tf.losses.BinaryCrossentropy()"
   ],
   "metadata": {
    "collapsed": false,
    "ExecuteTime": {
     "end_time": "2023-12-29T16:22:40.286801Z",
     "start_time": "2023-12-29T16:22:40.200799Z"
    }
   },
   "id": "d813ade7c723c7e2",
   "execution_count": 472
  },
  {
   "cell_type": "code",
   "outputs": [
    {
     "name": "stderr",
     "output_type": "stream",
     "text": [
      "WARNING:absl:At this time, the v2.11+ optimizer `tf.keras.optimizers.Adam` runs slowly on M1/M2 Macs, please use the legacy Keras optimizer instead, located at `tf.keras.optimizers.legacy.Adam`.\n"
     ]
    }
   ],
   "source": [
    "opt = tf.keras.optimizers.Adam(1e-4) # 0.0001"
   ],
   "metadata": {
    "collapsed": false,
    "ExecuteTime": {
     "end_time": "2023-12-29T16:22:41.308036Z",
     "start_time": "2023-12-29T16:22:41.124968Z"
    }
   },
   "id": "8d017e5371a2b61a",
   "execution_count": 473
  },
  {
   "cell_type": "markdown",
   "source": [
    "# Establishing Checkpoints"
   ],
   "metadata": {
    "collapsed": false
   },
   "id": "5b91b65669199168"
  },
  {
   "cell_type": "code",
   "outputs": [],
   "source": [
    "checkpoint_dir = './training_checkpoints'\n",
    "checkpoint_prefix = os.path.join(checkpoint_dir, 'ckpt')\n",
    "checkpoint = tf.train.Checkpoint(opt=opt, siamese_model = siamese_model)"
   ],
   "metadata": {
    "collapsed": false,
    "ExecuteTime": {
     "end_time": "2023-12-29T16:22:47.970579Z",
     "start_time": "2023-12-29T16:22:47.938395Z"
    }
   },
   "id": "1d8e1175b8f46eaa",
   "execution_count": 474
  },
  {
   "cell_type": "markdown",
   "source": [
    "# Build train step function"
   ],
   "metadata": {
    "collapsed": false
   },
   "id": "d50555940170ac76"
  },
  {
   "cell_type": "code",
   "outputs": [],
   "source": [
    "test_batch = train_data.as_numpy_iterator()"
   ],
   "metadata": {
    "collapsed": false,
    "ExecuteTime": {
     "end_time": "2023-12-29T16:22:52.695073Z",
     "start_time": "2023-12-29T16:22:52.535438Z"
    }
   },
   "id": "dfc2d8b3b748a0a5",
   "execution_count": 475
  },
  {
   "cell_type": "code",
   "outputs": [],
   "source": [
    "batch1 = test_batch.next()"
   ],
   "metadata": {
    "collapsed": false,
    "ExecuteTime": {
     "end_time": "2023-12-29T16:22:54.109259Z",
     "start_time": "2023-12-29T16:22:54.035110Z"
    }
   },
   "id": "6f7a573c22409eb4",
   "execution_count": 476
  },
  {
   "cell_type": "code",
   "outputs": [],
   "source": [
    "X = batch1[:2]"
   ],
   "metadata": {
    "collapsed": false,
    "ExecuteTime": {
     "end_time": "2023-12-29T16:22:56.823004Z",
     "start_time": "2023-12-29T16:22:56.496420Z"
    }
   },
   "id": "dd31696529e2bcc5",
   "execution_count": 477
  },
  {
   "cell_type": "code",
   "outputs": [],
   "source": [
    "y = batch1[2]"
   ],
   "metadata": {
    "collapsed": false,
    "ExecuteTime": {
     "end_time": "2023-12-29T16:22:58.533861Z",
     "start_time": "2023-12-29T16:22:58.390724Z"
    }
   },
   "id": "fb38c01a6904adca",
   "execution_count": 478
  },
  {
   "cell_type": "code",
   "outputs": [
    {
     "data": {
      "text/plain": "array([0., 1., 0., 0., 1., 1., 1., 0., 1., 0., 1., 1., 1., 0., 1., 0.],\n      dtype=float32)"
     },
     "execution_count": 479,
     "metadata": {},
     "output_type": "execute_result"
    }
   ],
   "source": [
    "y"
   ],
   "metadata": {
    "collapsed": false,
    "ExecuteTime": {
     "end_time": "2023-12-29T16:23:00.993412Z",
     "start_time": "2023-12-29T16:23:00.955262Z"
    }
   },
   "id": "63f2c203c2780eb5",
   "execution_count": 479
  },
  {
   "cell_type": "code",
   "outputs": [],
   "source": [
    "@tf.function\n",
    "def train_step(batch):\n",
    "    \n",
    "    # Record all of our operations \n",
    "    with tf.GradientTape() as tape:     \n",
    "        # Get anchor and positive/negative image\n",
    "        X = batch[:2]\n",
    "        # Get label\n",
    "        y = batch[2]\n",
    "        \n",
    "        # Forward pass\n",
    "        yhat = siamese_model(X, training=True)\n",
    "        # Calculate loss\n",
    "        loss = binary_cross_loss(y, yhat)\n",
    "    print(loss)\n",
    "        \n",
    "    # Calculate gradients\n",
    "    grad = tape.gradient(loss, siamese_model.trainable_variables)\n",
    "    \n",
    "    # Calculate updated weights and apply to siamese model\n",
    "    opt.apply_gradients(zip(grad, siamese_model.trainable_variables))\n",
    "        \n",
    "    # Return loss\n",
    "    return loss"
   ],
   "metadata": {
    "collapsed": false,
    "ExecuteTime": {
     "end_time": "2023-12-29T16:23:20.438681Z",
     "start_time": "2023-12-29T16:23:20.395563Z"
    }
   },
   "id": "b38d3f2a1ac35d5a",
   "execution_count": 480
  },
  {
   "cell_type": "markdown",
   "source": [
    "# Build training loop"
   ],
   "metadata": {
    "collapsed": false
   },
   "id": "9ee2b2b52f41199"
  },
  {
   "cell_type": "code",
   "outputs": [],
   "source": [
    "# Import metric calculations\n",
    "from tensorflow.keras.metrics import Precision, Recall"
   ],
   "metadata": {
    "collapsed": false,
    "ExecuteTime": {
     "end_time": "2023-12-29T16:23:35.388062Z",
     "start_time": "2023-12-29T16:23:35.325689Z"
    }
   },
   "id": "70d64479a1e94aa5",
   "execution_count": 481
  },
  {
   "cell_type": "code",
   "outputs": [],
   "source": [
    "def train(data, EPOCHS):\n",
    "    # Loop through epochs\n",
    "    for epoch in range(1, EPOCHS+1):\n",
    "        print('\\n Epoch {}/{}'.format(epoch, EPOCHS))\n",
    "        progbar = tf.keras.utils.Progbar(len(data))\n",
    "        \n",
    "        # Creating a metric object \n",
    "        r = Recall()\n",
    "        p = Precision()\n",
    "        \n",
    "        # Loop through each batch\n",
    "        for idx, batch in enumerate(data):\n",
    "            # Run train step here\n",
    "            loss = train_step(batch)\n",
    "            yhat = siamese_model.predict(batch[:2])\n",
    "            r.update_state(batch[2], yhat)\n",
    "            p.update_state(batch[2], yhat) \n",
    "            progbar.update(idx+1)\n",
    "        print(loss.numpy(), r.result().numpy(), p.result().numpy())\n",
    "        \n",
    "        # Save checkpoints\n",
    "        if epoch % 10 == 0: \n",
    "            checkpoint.save(file_prefix=checkpoint_prefix)"
   ],
   "metadata": {
    "collapsed": false,
    "ExecuteTime": {
     "end_time": "2023-12-29T16:23:44.937939Z",
     "start_time": "2023-12-29T16:23:44.896552Z"
    }
   },
   "id": "5f683db0143d0ffa",
   "execution_count": 482
  },
  {
   "cell_type": "markdown",
   "source": [
    "# train model"
   ],
   "metadata": {
    "collapsed": false
   },
   "id": "fbb14ca6ceb651e7"
  },
  {
   "cell_type": "code",
   "outputs": [],
   "source": [
    "EPOCHS = 50"
   ],
   "metadata": {
    "collapsed": false,
    "ExecuteTime": {
     "end_time": "2023-12-29T16:23:51.009282Z",
     "start_time": "2023-12-29T16:23:50.839611Z"
    }
   },
   "id": "1d8feb2136d1f453",
   "execution_count": 483
  },
  {
   "cell_type": "code",
   "outputs": [
    {
     "name": "stdout",
     "output_type": "stream",
     "text": [
      "\n",
      " Epoch 1/50\n",
      "Tensor(\"binary_crossentropy/weighted_loss/value:0\", shape=(), dtype=float32)\n",
      "Tensor(\"binary_crossentropy/weighted_loss/value:0\", shape=(), dtype=float32)\n"
     ]
    }
   ],
   "source": [
    "train(train_data, EPOCHS)"
   ],
   "metadata": {
    "collapsed": false,
    "is_executing": true,
    "ExecuteTime": {
     "start_time": "2023-12-29T16:23:51.858093Z"
    }
   },
   "id": "23557901d95e9add",
   "execution_count": null
  }
 ],
 "metadata": {
  "kernelspec": {
   "display_name": "Python 3",
   "language": "python",
   "name": "python3"
  },
  "language_info": {
   "codemirror_mode": {
    "name": "ipython",
    "version": 2
   },
   "file_extension": ".py",
   "mimetype": "text/x-python",
   "name": "python",
   "nbconvert_exporter": "python",
   "pygments_lexer": "ipython2",
   "version": "2.7.6"
  }
 },
 "nbformat": 4,
 "nbformat_minor": 5
}
